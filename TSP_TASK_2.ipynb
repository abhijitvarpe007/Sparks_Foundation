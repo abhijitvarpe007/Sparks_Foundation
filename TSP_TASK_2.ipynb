{
  "nbformat": 4,
  "nbformat_minor": 0,
  "metadata": {
    "colab": {
      "name": "TSP_TASK#2.ipynb",
      "provenance": [],
      "collapsed_sections": []
    },
    "kernelspec": {
      "name": "python3",
      "display_name": "Python 3"
    }
  },
  "cells": [
    {
      "cell_type": "markdown",
      "metadata": {
        "id": "xlmWozwXQGts",
        "colab_type": "text"
      },
      "source": [
        "# Task # 2 - To Explore Supervised Machine Learning\n",
        "Linear regression is a common Statistical Data Analysis technique. It is used to determine the extent to which there is a linear relationship between a dependent variable and one or more independent variables.\n",
        "\n",
        "# Task\n",
        " In this regression task we will predict the percentage of marks that a student is expected to score based upon the number of hours they studied. This is a simple linear regression task as it involves just two variables.\n",
        "\n",
        "Data can be found at http://bit.ly/w-data\n",
        "\n",
        "What will be predicted score if a student study for 9.25 hrs in a day?\n"
      ]
    },
    {
      "cell_type": "markdown",
      "metadata": {
        "id": "CLEnUCJBRJtT",
        "colab_type": "text"
      },
      "source": [
        "# Import all the dependencies"
      ]
    },
    {
      "cell_type": "code",
      "metadata": {
        "id": "oVyDLp9nRCj9",
        "colab_type": "code",
        "colab": {}
      },
      "source": [
        "import numpy as np\n",
        "import pandas as pd\n",
        "import matplotlib.pyplot as plt"
      ],
      "execution_count": null,
      "outputs": []
    },
    {
      "cell_type": "markdown",
      "metadata": {
        "id": "Lw1wvoDPRe7O",
        "colab_type": "text"
      },
      "source": [
        "# Load the Data"
      ]
    },
    {
      "cell_type": "code",
      "metadata": {
        "id": "nOMDY8ANRYL-",
        "colab_type": "code",
        "colab": {
          "base_uri": "https://localhost:8080/",
          "height": 202
        },
        "outputId": "66486742-45ea-4b01-e91a-e62763808187"
      },
      "source": [
        "url='http://bit.ly/w-data'\n",
        "df=pd.read_csv(url)\n",
        "df.head()"
      ],
      "execution_count": null,
      "outputs": [
        {
          "output_type": "execute_result",
          "data": {
            "text/html": [
              "<div>\n",
              "<style scoped>\n",
              "    .dataframe tbody tr th:only-of-type {\n",
              "        vertical-align: middle;\n",
              "    }\n",
              "\n",
              "    .dataframe tbody tr th {\n",
              "        vertical-align: top;\n",
              "    }\n",
              "\n",
              "    .dataframe thead th {\n",
              "        text-align: right;\n",
              "    }\n",
              "</style>\n",
              "<table border=\"1\" class=\"dataframe\">\n",
              "  <thead>\n",
              "    <tr style=\"text-align: right;\">\n",
              "      <th></th>\n",
              "      <th>Hours</th>\n",
              "      <th>Scores</th>\n",
              "    </tr>\n",
              "  </thead>\n",
              "  <tbody>\n",
              "    <tr>\n",
              "      <th>0</th>\n",
              "      <td>2.5</td>\n",
              "      <td>21</td>\n",
              "    </tr>\n",
              "    <tr>\n",
              "      <th>1</th>\n",
              "      <td>5.1</td>\n",
              "      <td>47</td>\n",
              "    </tr>\n",
              "    <tr>\n",
              "      <th>2</th>\n",
              "      <td>3.2</td>\n",
              "      <td>27</td>\n",
              "    </tr>\n",
              "    <tr>\n",
              "      <th>3</th>\n",
              "      <td>8.5</td>\n",
              "      <td>75</td>\n",
              "    </tr>\n",
              "    <tr>\n",
              "      <th>4</th>\n",
              "      <td>3.5</td>\n",
              "      <td>30</td>\n",
              "    </tr>\n",
              "  </tbody>\n",
              "</table>\n",
              "</div>"
            ],
            "text/plain": [
              "   Hours  Scores\n",
              "0    2.5      21\n",
              "1    5.1      47\n",
              "2    3.2      27\n",
              "3    8.5      75\n",
              "4    3.5      30"
            ]
          },
          "metadata": {
            "tags": []
          },
          "execution_count": 2
        }
      ]
    },
    {
      "cell_type": "markdown",
      "metadata": {
        "id": "f08cj9A3SM3V",
        "colab_type": "text"
      },
      "source": [
        "# Exploring the our Dateset\n",
        "1. check the Dataset Shape"
      ]
    },
    {
      "cell_type": "code",
      "metadata": {
        "id": "UNqjoCOESKz7",
        "colab_type": "code",
        "colab": {
          "base_uri": "https://localhost:8080/",
          "height": 35
        },
        "outputId": "7e9d09b4-483b-4c3b-8442-48ae65deec22"
      },
      "source": [
        "df.shape"
      ],
      "execution_count": null,
      "outputs": [
        {
          "output_type": "execute_result",
          "data": {
            "text/plain": [
              "(25, 2)"
            ]
          },
          "metadata": {
            "tags": []
          },
          "execution_count": 3
        }
      ]
    },
    {
      "cell_type": "code",
      "metadata": {
        "id": "bF1IW685SxfN",
        "colab_type": "code",
        "colab": {
          "base_uri": "https://localhost:8080/",
          "height": 35
        },
        "outputId": "240d076e-b072-44e2-f164-a5acdf0c0a7d"
      },
      "source": [
        "df.columns"
      ],
      "execution_count": null,
      "outputs": [
        {
          "output_type": "execute_result",
          "data": {
            "text/plain": [
              "Index(['Hours', 'Scores'], dtype='object')"
            ]
          },
          "metadata": {
            "tags": []
          },
          "execution_count": 4
        }
      ]
    },
    {
      "cell_type": "code",
      "metadata": {
        "id": "Nq5UTZWcSoiz",
        "colab_type": "code",
        "colab": {
          "base_uri": "https://localhost:8080/",
          "height": 294
        },
        "outputId": "04f05308-bf2d-4709-9cf2-f4049f2875bf"
      },
      "source": [
        "df.describe(include='all')"
      ],
      "execution_count": null,
      "outputs": [
        {
          "output_type": "execute_result",
          "data": {
            "text/html": [
              "<div>\n",
              "<style scoped>\n",
              "    .dataframe tbody tr th:only-of-type {\n",
              "        vertical-align: middle;\n",
              "    }\n",
              "\n",
              "    .dataframe tbody tr th {\n",
              "        vertical-align: top;\n",
              "    }\n",
              "\n",
              "    .dataframe thead th {\n",
              "        text-align: right;\n",
              "    }\n",
              "</style>\n",
              "<table border=\"1\" class=\"dataframe\">\n",
              "  <thead>\n",
              "    <tr style=\"text-align: right;\">\n",
              "      <th></th>\n",
              "      <th>Hours</th>\n",
              "      <th>Scores</th>\n",
              "    </tr>\n",
              "  </thead>\n",
              "  <tbody>\n",
              "    <tr>\n",
              "      <th>count</th>\n",
              "      <td>25.000000</td>\n",
              "      <td>25.000000</td>\n",
              "    </tr>\n",
              "    <tr>\n",
              "      <th>mean</th>\n",
              "      <td>5.012000</td>\n",
              "      <td>51.480000</td>\n",
              "    </tr>\n",
              "    <tr>\n",
              "      <th>std</th>\n",
              "      <td>2.525094</td>\n",
              "      <td>25.286887</td>\n",
              "    </tr>\n",
              "    <tr>\n",
              "      <th>min</th>\n",
              "      <td>1.100000</td>\n",
              "      <td>17.000000</td>\n",
              "    </tr>\n",
              "    <tr>\n",
              "      <th>25%</th>\n",
              "      <td>2.700000</td>\n",
              "      <td>30.000000</td>\n",
              "    </tr>\n",
              "    <tr>\n",
              "      <th>50%</th>\n",
              "      <td>4.800000</td>\n",
              "      <td>47.000000</td>\n",
              "    </tr>\n",
              "    <tr>\n",
              "      <th>75%</th>\n",
              "      <td>7.400000</td>\n",
              "      <td>75.000000</td>\n",
              "    </tr>\n",
              "    <tr>\n",
              "      <th>max</th>\n",
              "      <td>9.200000</td>\n",
              "      <td>95.000000</td>\n",
              "    </tr>\n",
              "  </tbody>\n",
              "</table>\n",
              "</div>"
            ],
            "text/plain": [
              "           Hours     Scores\n",
              "count  25.000000  25.000000\n",
              "mean    5.012000  51.480000\n",
              "std     2.525094  25.286887\n",
              "min     1.100000  17.000000\n",
              "25%     2.700000  30.000000\n",
              "50%     4.800000  47.000000\n",
              "75%     7.400000  75.000000\n",
              "max     9.200000  95.000000"
            ]
          },
          "metadata": {
            "tags": []
          },
          "execution_count": 5
        }
      ]
    },
    {
      "cell_type": "code",
      "metadata": {
        "id": "IwPziJZJTLA8",
        "colab_type": "code",
        "colab": {
          "base_uri": "https://localhost:8080/",
          "height": 173
        },
        "outputId": "e7c8566c-4954-4b81-98cf-b3d8cb0deebe"
      },
      "source": [
        "df.info()"
      ],
      "execution_count": null,
      "outputs": [
        {
          "output_type": "stream",
          "text": [
            "<class 'pandas.core.frame.DataFrame'>\n",
            "RangeIndex: 25 entries, 0 to 24\n",
            "Data columns (total 2 columns):\n",
            " #   Column  Non-Null Count  Dtype  \n",
            "---  ------  --------------  -----  \n",
            " 0   Hours   25 non-null     float64\n",
            " 1   Scores  25 non-null     int64  \n",
            "dtypes: float64(1), int64(1)\n",
            "memory usage: 528.0 bytes\n"
          ],
          "name": "stdout"
        }
      ]
    },
    {
      "cell_type": "markdown",
      "metadata": {
        "id": "Qo1RwYZfToYT",
        "colab_type": "text"
      },
      "source": [
        "# Check the Null values in the DataSet"
      ]
    },
    {
      "cell_type": "code",
      "metadata": {
        "id": "xIX7g6B4TnuO",
        "colab_type": "code",
        "colab": {
          "base_uri": "https://localhost:8080/",
          "height": 69
        },
        "outputId": "02e912e4-e742-423e-c611-dc040cc09880"
      },
      "source": [
        "df.isnull().any()"
      ],
      "execution_count": null,
      "outputs": [
        {
          "output_type": "execute_result",
          "data": {
            "text/plain": [
              "Hours     False\n",
              "Scores    False\n",
              "dtype: bool"
            ]
          },
          "metadata": {
            "tags": []
          },
          "execution_count": 7
        }
      ]
    },
    {
      "cell_type": "markdown",
      "metadata": {
        "id": "XT60XElxT285",
        "colab_type": "text"
      },
      "source": [
        "In the dataset there is no null values\n",
        "So we processed ahead"
      ]
    },
    {
      "cell_type": "markdown",
      "metadata": {
        "id": "KnHdr4DyUG8I",
        "colab_type": "text"
      },
      "source": [
        "# Visualizing the DataSet\n"
      ]
    },
    {
      "cell_type": "code",
      "metadata": {
        "id": "K4eLrY_9T2WN",
        "colab_type": "code",
        "colab": {}
      },
      "source": [
        "x=df[['Hours']]\n",
        "y=df[['Scores']]"
      ],
      "execution_count": null,
      "outputs": []
    },
    {
      "cell_type": "code",
      "metadata": {
        "id": "vfK_bEQUVRLf",
        "colab_type": "code",
        "colab": {
          "base_uri": "https://localhost:8080/",
          "height": 468
        },
        "outputId": "0fa737af-53d0-45f5-badb-505ad71aade8"
      },
      "source": [
        "plt.figure(figsize=(12,7))\n",
        "plt.scatter(x,y,c='m',label='Score')\n",
        "plt.title('Hours VS Scores',fontsize=20)\n",
        "plt.xlabel(\"Hours\",fontsize=15)\n",
        "plt.ylabel('Scores',fontsize=15)\n",
        "plt.legend()\n",
        "plt.show()"
      ],
      "execution_count": null,
      "outputs": [
        {
          "output_type": "display_data",
          "data": {
            "image/png": "[encoded data removed]",
            "text/plain": [
              "<Figure size 864x504 with 1 Axes>"
            ]
          },
          "metadata": {
            "tags": [],
            "needs_background": "light"
          }
        }
      ]
    },
    {
      "cell_type": "markdown",
      "metadata": {
        "id": "pyKL-bD8X5Qa",
        "colab_type": "text"
      },
      "source": [
        "# Creating ML Model\n",
        "Lets store out features and target value in input, target variables respectively."
      ]
    },
    {
      "cell_type": "code",
      "metadata": {
        "id": "GGXXDjq6X4cm",
        "colab_type": "code",
        "colab": {}
      },
      "source": [
        "X=df.iloc[:,0:1].values\n",
        "y=df.iloc[:,1].values"
      ],
      "execution_count": null,
      "outputs": []
    },
    {
      "cell_type": "markdown",
      "metadata": {
        "id": "pGxXwXsSYiVS",
        "colab_type": "text"
      },
      "source": [
        "Now we have to split out dataset into tain set and test set. Training Data:"
      ]
    },
    {
      "cell_type": "code",
      "metadata": {
        "id": "eTiZpi4IYe9B",
        "colab_type": "code",
        "colab": {
          "base_uri": "https://localhost:8080/",
          "height": 35
        },
        "outputId": "3b2760b0-dcfd-4b00-af0b-f8c7fa4bfe50"
      },
      "source": [
        "from sklearn.model_selection import train_test_split\n",
        "X_train, X_test, y_train, y_test = train_test_split(X, y, shuffle=True,test_size=0.2, random_state=0)\n",
        "print(\"Training size: {} , Testing size: {}\".format(len(X_train), len(X_test)))"
      ],
      "execution_count": null,
      "outputs": [
        {
          "output_type": "stream",
          "text": [
            "Training size: 20 , Testing size: 5\n"
          ],
          "name": "stdout"
        }
      ]
    },
    {
      "cell_type": "markdown",
      "metadata": {
        "id": "OIEcIrIfYzlh",
        "colab_type": "text"
      },
      "source": [
        "# Simple Linear Regression\n",
        "Linear Regression is a linear approach to modeling the relationship between a scalar response (or dependent variable) and one or more explanatory variables (or independent variables). The case of one explanatory variable is called Simple Linear Regression.\n"
      ]
    },
    {
      "cell_type": "code",
      "metadata": {
        "id": "-GYc_q-hY6NN",
        "colab_type": "code",
        "colab": {}
      },
      "source": [
        "from sklearn.linear_model import LinearRegression"
      ],
      "execution_count": null,
      "outputs": []
    },
    {
      "cell_type": "code",
      "metadata": {
        "id": "wq-IaB3vY-ti",
        "colab_type": "code",
        "colab": {}
      },
      "source": [
        "reg_line = LinearRegression()"
      ],
      "execution_count": null,
      "outputs": []
    },
    {
      "cell_type": "markdown",
      "metadata": {
        "id": "_2qu837hZGl2",
        "colab_type": "text"
      },
      "source": [
        "To train our model we will use .fit() method that takes 2 parameters--> (df_inputs, df_targets)"
      ]
    },
    {
      "cell_type": "code",
      "metadata": {
        "id": "A-Q6kBRvZB_N",
        "colab_type": "code",
        "colab": {
          "base_uri": "https://localhost:8080/",
          "height": 35
        },
        "outputId": "bc9b3314-8d46-46ab-e5f6-54b269c3919b"
      },
      "source": [
        "reg_line.fit(X_train, y_train)"
      ],
      "execution_count": null,
      "outputs": [
        {
          "output_type": "execute_result",
          "data": {
            "text/plain": [
              "LinearRegression(copy_X=True, fit_intercept=True, n_jobs=None, normalize=False)"
            ]
          },
          "metadata": {
            "tags": []
          },
          "execution_count": 14
        }
      ]
    },
    {
      "cell_type": "code",
      "metadata": {
        "id": "UgGmAbYp3Klf",
        "colab_type": "code",
        "colab": {
          "base_uri": "https://localhost:8080/",
          "height": 468
        },
        "outputId": "b9c2c641-ddc1-48ac-a876-847e79729437"
      },
      "source": [
        "line=reg_line.coef_*X+reg_line.intercept_\n",
        "plt.figure(figsize=(12,7))\n",
        "plt.scatter(X,y,c='m',label='Score')\n",
        "plt.plot(x,line,c='r',label='Line')\n",
        "plt.title(\" Hours VS Scores\",fontsize=20)\n",
        "plt.xlabel(\"Hours\",fontsize=15)\n",
        "plt.ylabel('Scores',fontsize=15)\n",
        "plt.legend(loc=4)\n",
        "plt.show()"
      ],
      "execution_count": null,
      "outputs": [
        {
          "output_type": "display_data",
          "data": {
            "image/png": "[encoded data removed]",
            "text/plain": [
              "<Figure size 864x504 with 1 Axes>"
            ]
          },
          "metadata": {
            "tags": [],
            "needs_background": "light"
          }
        }
      ]
    },
    {
      "cell_type": "markdown",
      "metadata": {
        "id": "CQBZwZNqbPVY",
        "colab_type": "text"
      },
      "source": [
        "Our model has been trained successfully.\n",
        "\n",
        "Now lets use our model to predict test data.."
      ]
    },
    {
      "cell_type": "code",
      "metadata": {
        "id": "MRORs8_6cy9Z",
        "colab_type": "code",
        "colab": {
          "base_uri": "https://localhost:8080/",
          "height": 35
        },
        "outputId": "60be2cff-9bbb-4bea-dd18-23454654b545"
      },
      "source": [
        "reg_line.score(X_train, y_train)"
      ],
      "execution_count": null,
      "outputs": [
        {
          "output_type": "execute_result",
          "data": {
            "text/plain": [
              "0.9515510725211553"
            ]
          },
          "metadata": {
            "tags": []
          },
          "execution_count": 16
        }
      ]
    },
    {
      "cell_type": "markdown",
      "metadata": {
        "id": "wHsZuRm05aDf",
        "colab_type": "text"
      },
      "source": [
        "Predicting the Score"
      ]
    },
    {
      "cell_type": "code",
      "metadata": {
        "id": "Ct6vozaJbQ9W",
        "colab_type": "code",
        "colab": {
          "base_uri": "https://localhost:8080/",
          "height": 35
        },
        "outputId": "96ee4d32-2dc8-40e7-abe7-c7f3c6580292"
      },
      "source": [
        "y_pre = reg_line.predict(X_test)\n",
        "y_pre"
      ],
      "execution_count": null,
      "outputs": [
        {
          "output_type": "execute_result",
          "data": {
            "text/plain": [
              "array([16.88414476, 33.73226078, 75.357018  , 26.79480124, 60.49103328])"
            ]
          },
          "metadata": {
            "tags": []
          },
          "execution_count": 17
        }
      ]
    },
    {
      "cell_type": "code",
      "metadata": {
        "id": "6fa2Xj__49xA",
        "colab_type": "code",
        "colab": {
          "base_uri": "https://localhost:8080/",
          "height": 202
        },
        "outputId": "377223f9-8e79-477e-b574-8afe96d07db4"
      },
      "source": [
        "df_pre=pd.DataFrame({'Actual':y_test,'Predicted':y_pre})\n",
        "df_pre"
      ],
      "execution_count": null,
      "outputs": [
        {
          "output_type": "execute_result",
          "data": {
            "text/html": [
              "<div>\n",
              "<style scoped>\n",
              "    .dataframe tbody tr th:only-of-type {\n",
              "        vertical-align: middle;\n",
              "    }\n",
              "\n",
              "    .dataframe tbody tr th {\n",
              "        vertical-align: top;\n",
              "    }\n",
              "\n",
              "    .dataframe thead th {\n",
              "        text-align: right;\n",
              "    }\n",
              "</style>\n",
              "<table border=\"1\" class=\"dataframe\">\n",
              "  <thead>\n",
              "    <tr style=\"text-align: right;\">\n",
              "      <th></th>\n",
              "      <th>Actual</th>\n",
              "      <th>Predicted</th>\n",
              "    </tr>\n",
              "  </thead>\n",
              "  <tbody>\n",
              "    <tr>\n",
              "      <th>0</th>\n",
              "      <td>20</td>\n",
              "      <td>16.884145</td>\n",
              "    </tr>\n",
              "    <tr>\n",
              "      <th>1</th>\n",
              "      <td>27</td>\n",
              "      <td>33.732261</td>\n",
              "    </tr>\n",
              "    <tr>\n",
              "      <th>2</th>\n",
              "      <td>69</td>\n",
              "      <td>75.357018</td>\n",
              "    </tr>\n",
              "    <tr>\n",
              "      <th>3</th>\n",
              "      <td>30</td>\n",
              "      <td>26.794801</td>\n",
              "    </tr>\n",
              "    <tr>\n",
              "      <th>4</th>\n",
              "      <td>62</td>\n",
              "      <td>60.491033</td>\n",
              "    </tr>\n",
              "  </tbody>\n",
              "</table>\n",
              "</div>"
            ],
            "text/plain": [
              "   Actual  Predicted\n",
              "0      20  16.884145\n",
              "1      27  33.732261\n",
              "2      69  75.357018\n",
              "3      30  26.794801\n",
              "4      62  60.491033"
            ]
          },
          "metadata": {
            "tags": []
          },
          "execution_count": 18
        }
      ]
    },
    {
      "cell_type": "markdown",
      "metadata": {
        "id": "IP8n19uI0ZWY",
        "colab_type": "text"
      },
      "source": [
        "Ploting the bar graph to see actual and predicted values"
      ]
    },
    {
      "cell_type": "code",
      "metadata": {
        "id": "HvNcVd9d0Xtr",
        "colab_type": "code",
        "colab": {
          "base_uri": "https://localhost:8080/",
          "height": 428
        },
        "outputId": "d64bd460-29c6-4225-f9da-d8800955657a"
      },
      "source": [
        "houre_i=[2,4,6,8,10]\n",
        "houre_index=np.arange(len(houre_i))\n",
        "width=0.2\n",
        "plt.figure(figsize=(12,7))\n",
        "plt.bar(houre_index,y_test,width,label='Actual')\n",
        "plt.bar(houre_index+width,y_pre,width,label='Predicted')\n",
        "plt.legend()\n",
        "plt.show()"
      ],
      "execution_count": null,
      "outputs": [
        {
          "output_type": "display_data",
          "data": {
            "image/png": "[encoded data removed]",
            "text/plain": [
              "<Figure size 864x504 with 1 Axes>"
            ]
          },
          "metadata": {
            "tags": [],
            "needs_background": "light"
          }
        }
      ]
    },
    {
      "cell_type": "code",
      "metadata": {
        "id": "iIAaHhKk5zUo",
        "colab_type": "code",
        "colab": {
          "base_uri": "https://localhost:8080/",
          "height": 52
        },
        "outputId": "8c90fa6b-3fe3-4e29-cc79-393341467f04"
      },
      "source": [
        "hour=9.25\n",
        "pre_score=reg_line.predict([[9.25]])\n",
        "print(f\"No of Hour = {hour}\")\n",
        "print(f\"Predicted Score = {pre_score[0]}\")"
      ],
      "execution_count": null,
      "outputs": [
        {
          "output_type": "stream",
          "text": [
            "No of Hour = 9.25\n",
            "Predicted Score = 93.69173248737539\n"
          ],
          "name": "stdout"
        }
      ]
    },
    {
      "cell_type": "markdown",
      "metadata": {
        "id": "WXzgMl3z30zo",
        "colab_type": "text"
      },
      "source": [
        "# Evaluting the model\n",
        "calculate the Mean absolute Error, Mean Square Errorand Root Mean Square Error."
      ]
    },
    {
      "cell_type": "code",
      "metadata": {
        "id": "HPVhc68d3zhV",
        "colab_type": "code",
        "colab": {
          "base_uri": "https://localhost:8080/",
          "height": 87
        },
        "outputId": "8245f070-b69f-43fd-e19e-03ef1bb4f12c"
      },
      "source": [
        "from sklearn import metrics\n",
        "print(\"Mean Absolute Error\",metrics.mean_absolute_error(y_test,y_pre))\n",
        "print(\"Mean Square Error\",metrics.mean_squared_error(y_test,y_pre))\n",
        "print(\"Mean Absolute Error\",metrics.mean_absolute_error(y_test,y_pre))\n",
        "print(\"Root Mean Squared Error\",np.sqrt(metrics.mean_squared_error(y_test,y_pre)))"
      ],
      "execution_count": null,
      "outputs": [
        {
          "output_type": "stream",
          "text": [
            "Mean Absolute Error 4.183859899002982\n",
            "Mean Square Error 21.598769307217456\n",
            "Mean Absolute Error 4.183859899002982\n",
            "Root Mean Squared Error 4.647447612100373\n"
          ],
          "name": "stdout"
        }
      ]
    },
    {
      "cell_type": "markdown",
      "metadata": {
        "id": "Ls5RdpLb6sFh",
        "colab_type": "text"
      },
      "source": [
        "# Conclusion \n",
        "From above results we can say that if student study 9.25 hours then studnt get 93.69 Marks.\n"
      ]
    },
    {
      "cell_type": "markdown",
      "metadata": {
        "id": "wNTJapyN7RKz",
        "colab_type": "text"
      },
      "source": [
        "# ThankYou!!!!"
      ]
    }
  ]
}